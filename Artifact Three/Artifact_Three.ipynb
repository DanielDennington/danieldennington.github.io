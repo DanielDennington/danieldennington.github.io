{
 "cells": [
  {
   "cell_type": "markdown",
   "metadata": {},
   "source": [
    "# Data Science Practice\n",
    "\n",
    "## Below is a demonstration of: \n",
    "\n",
    "   - Exploratory Data Analysis\n",
    "   - Focusing on a particular metric\n",
    "   - Cleaning/Transforming the data from the chosen metric\n",
    "   - Visualizing that data\n",
    "   - Extracting specific data from particular metrics"
   ]
  },
  {
   "cell_type": "code",
   "execution_count": 47,
   "metadata": {},
   "outputs": [],
   "source": [
    "# Importing libraries\n",
    "import pandas as pd\n",
    "import numpy as np\n",
    "import matplotlib.pyplot as plt"
   ]
  },
  {
   "cell_type": "code",
   "execution_count": 48,
   "metadata": {},
   "outputs": [],
   "source": [
    "# Reading the data from a locally stored csv files\n",
    "# The file has details about every game played from the 2004 - 2021 NBA season\n",
    "\n",
    "df = pd.read_csv('games_details.csv', index_col=None, header=0, engine='python')"
   ]
  },
  {
   "cell_type": "markdown",
   "metadata": {},
   "source": [
    "## Exploratory Data Analysis"
   ]
  },
  {
   "cell_type": "code",
   "execution_count": 49,
   "metadata": {},
   "outputs": [
    {
     "data": {
      "text/html": [
       "<div>\n",
       "<style scoped>\n",
       "    .dataframe tbody tr th:only-of-type {\n",
       "        vertical-align: middle;\n",
       "    }\n",
       "\n",
       "    .dataframe tbody tr th {\n",
       "        vertical-align: top;\n",
       "    }\n",
       "\n",
       "    .dataframe thead th {\n",
       "        text-align: right;\n",
       "    }\n",
       "</style>\n",
       "<table border=\"1\" class=\"dataframe\">\n",
       "  <thead>\n",
       "    <tr style=\"text-align: right;\">\n",
       "      <th></th>\n",
       "      <th>GAME_ID</th>\n",
       "      <th>TEAM_ID</th>\n",
       "      <th>TEAM_ABBREVIATION</th>\n",
       "      <th>TEAM_CITY</th>\n",
       "      <th>PLAYER_ID</th>\n",
       "      <th>PLAYER_NAME</th>\n",
       "      <th>NICKNAME</th>\n",
       "      <th>START_POSITION</th>\n",
       "      <th>COMMENT</th>\n",
       "      <th>MIN</th>\n",
       "      <th>...</th>\n",
       "      <th>OREB</th>\n",
       "      <th>DREB</th>\n",
       "      <th>REB</th>\n",
       "      <th>AST</th>\n",
       "      <th>STL</th>\n",
       "      <th>BLK</th>\n",
       "      <th>TO</th>\n",
       "      <th>PF</th>\n",
       "      <th>PTS</th>\n",
       "      <th>PLUS_MINUS</th>\n",
       "    </tr>\n",
       "  </thead>\n",
       "  <tbody>\n",
       "    <tr>\n",
       "      <th>0</th>\n",
       "      <td>22100213</td>\n",
       "      <td>1610612764</td>\n",
       "      <td>WAS</td>\n",
       "      <td>Washington</td>\n",
       "      <td>203484</td>\n",
       "      <td>Kentavious Caldwell-Pope</td>\n",
       "      <td>Kentavious</td>\n",
       "      <td>F</td>\n",
       "      <td>NaN</td>\n",
       "      <td>27:41</td>\n",
       "      <td>...</td>\n",
       "      <td>1.0</td>\n",
       "      <td>5.0</td>\n",
       "      <td>6.0</td>\n",
       "      <td>2.0</td>\n",
       "      <td>1.0</td>\n",
       "      <td>0.0</td>\n",
       "      <td>1.0</td>\n",
       "      <td>0.0</td>\n",
       "      <td>3.0</td>\n",
       "      <td>2.0</td>\n",
       "    </tr>\n",
       "    <tr>\n",
       "      <th>1</th>\n",
       "      <td>22100213</td>\n",
       "      <td>1610612764</td>\n",
       "      <td>WAS</td>\n",
       "      <td>Washington</td>\n",
       "      <td>1628398</td>\n",
       "      <td>Kyle Kuzma</td>\n",
       "      <td>Kyle</td>\n",
       "      <td>F</td>\n",
       "      <td>NaN</td>\n",
       "      <td>30:28</td>\n",
       "      <td>...</td>\n",
       "      <td>1.0</td>\n",
       "      <td>4.0</td>\n",
       "      <td>5.0</td>\n",
       "      <td>3.0</td>\n",
       "      <td>1.0</td>\n",
       "      <td>2.0</td>\n",
       "      <td>1.0</td>\n",
       "      <td>1.0</td>\n",
       "      <td>5.0</td>\n",
       "      <td>-14.0</td>\n",
       "    </tr>\n",
       "    <tr>\n",
       "      <th>2</th>\n",
       "      <td>22100213</td>\n",
       "      <td>1610612764</td>\n",
       "      <td>WAS</td>\n",
       "      <td>Washington</td>\n",
       "      <td>1629655</td>\n",
       "      <td>Daniel Gafford</td>\n",
       "      <td>Daniel</td>\n",
       "      <td>C</td>\n",
       "      <td>NaN</td>\n",
       "      <td>24:21</td>\n",
       "      <td>...</td>\n",
       "      <td>2.0</td>\n",
       "      <td>7.0</td>\n",
       "      <td>9.0</td>\n",
       "      <td>1.0</td>\n",
       "      <td>2.0</td>\n",
       "      <td>1.0</td>\n",
       "      <td>1.0</td>\n",
       "      <td>4.0</td>\n",
       "      <td>20.0</td>\n",
       "      <td>-2.0</td>\n",
       "    </tr>\n",
       "    <tr>\n",
       "      <th>3</th>\n",
       "      <td>22100213</td>\n",
       "      <td>1610612764</td>\n",
       "      <td>WAS</td>\n",
       "      <td>Washington</td>\n",
       "      <td>203078</td>\n",
       "      <td>Bradley Beal</td>\n",
       "      <td>Bradley</td>\n",
       "      <td>G</td>\n",
       "      <td>NaN</td>\n",
       "      <td>35:07</td>\n",
       "      <td>...</td>\n",
       "      <td>0.0</td>\n",
       "      <td>3.0</td>\n",
       "      <td>3.0</td>\n",
       "      <td>7.0</td>\n",
       "      <td>2.0</td>\n",
       "      <td>0.0</td>\n",
       "      <td>2.0</td>\n",
       "      <td>3.0</td>\n",
       "      <td>24.0</td>\n",
       "      <td>-9.0</td>\n",
       "    </tr>\n",
       "    <tr>\n",
       "      <th>4</th>\n",
       "      <td>22100213</td>\n",
       "      <td>1610612764</td>\n",
       "      <td>WAS</td>\n",
       "      <td>Washington</td>\n",
       "      <td>203915</td>\n",
       "      <td>Spencer Dinwiddie</td>\n",
       "      <td>Spencer</td>\n",
       "      <td>G</td>\n",
       "      <td>NaN</td>\n",
       "      <td>28:34</td>\n",
       "      <td>...</td>\n",
       "      <td>0.0</td>\n",
       "      <td>3.0</td>\n",
       "      <td>3.0</td>\n",
       "      <td>2.0</td>\n",
       "      <td>0.0</td>\n",
       "      <td>0.0</td>\n",
       "      <td>2.0</td>\n",
       "      <td>1.0</td>\n",
       "      <td>0.0</td>\n",
       "      <td>-5.0</td>\n",
       "    </tr>\n",
       "  </tbody>\n",
       "</table>\n",
       "<p>5 rows × 29 columns</p>\n",
       "</div>"
      ],
      "text/plain": [
       "    GAME_ID     TEAM_ID TEAM_ABBREVIATION   TEAM_CITY  PLAYER_ID  \\\n",
       "0  22100213  1610612764               WAS  Washington     203484   \n",
       "1  22100213  1610612764               WAS  Washington    1628398   \n",
       "2  22100213  1610612764               WAS  Washington    1629655   \n",
       "3  22100213  1610612764               WAS  Washington     203078   \n",
       "4  22100213  1610612764               WAS  Washington     203915   \n",
       "\n",
       "                PLAYER_NAME    NICKNAME START_POSITION COMMENT    MIN  ...  \\\n",
       "0  Kentavious Caldwell-Pope  Kentavious              F     NaN  27:41  ...   \n",
       "1                Kyle Kuzma        Kyle              F     NaN  30:28  ...   \n",
       "2            Daniel Gafford      Daniel              C     NaN  24:21  ...   \n",
       "3              Bradley Beal     Bradley              G     NaN  35:07  ...   \n",
       "4         Spencer Dinwiddie     Spencer              G     NaN  28:34  ...   \n",
       "\n",
       "   OREB  DREB  REB  AST  STL  BLK   TO   PF   PTS  PLUS_MINUS  \n",
       "0   1.0   5.0  6.0  2.0  1.0  0.0  1.0  0.0   3.0         2.0  \n",
       "1   1.0   4.0  5.0  3.0  1.0  2.0  1.0  1.0   5.0       -14.0  \n",
       "2   2.0   7.0  9.0  1.0  2.0  1.0  1.0  4.0  20.0        -2.0  \n",
       "3   0.0   3.0  3.0  7.0  2.0  0.0  2.0  3.0  24.0        -9.0  \n",
       "4   0.0   3.0  3.0  2.0  0.0  0.0  2.0  1.0   0.0        -5.0  \n",
       "\n",
       "[5 rows x 29 columns]"
      ]
     },
     "execution_count": 49,
     "metadata": {},
     "output_type": "execute_result"
    }
   ],
   "source": [
    "# Observing the beginning of the file contents\n",
    "df.head()"
   ]
  },
  {
   "cell_type": "code",
   "execution_count": 50,
   "metadata": {},
   "outputs": [
    {
     "data": {
      "text/plain": [
       "(626111, 29)"
      ]
     },
     "execution_count": 50,
     "metadata": {},
     "output_type": "execute_result"
    }
   ],
   "source": [
    "# Getting the amount of rows & columns\n",
    "df.shape"
   ]
  },
  {
   "cell_type": "code",
   "execution_count": 51,
   "metadata": {},
   "outputs": [
    {
     "name": "stdout",
     "output_type": "stream",
     "text": [
      "<class 'pandas.core.frame.DataFrame'>\n",
      "RangeIndex: 626111 entries, 0 to 626110\n",
      "Data columns (total 29 columns):\n",
      " #   Column             Non-Null Count   Dtype  \n",
      "---  ------             --------------   -----  \n",
      " 0   GAME_ID            626111 non-null  int64  \n",
      " 1   TEAM_ID            626111 non-null  int64  \n",
      " 2   TEAM_ABBREVIATION  626111 non-null  object \n",
      " 3   TEAM_CITY          626111 non-null  object \n",
      " 4   PLAYER_ID          626111 non-null  int64  \n",
      " 5   PLAYER_NAME        626111 non-null  object \n",
      " 6   NICKNAME           10485 non-null   object \n",
      " 7   START_POSITION     239375 non-null  object \n",
      " 8   COMMENT            102359 non-null  object \n",
      " 9   MIN                523751 non-null  object \n",
      " 10  FGM                523751 non-null  float64\n",
      " 11  FGA                523751 non-null  float64\n",
      " 12  FG_PCT             523751 non-null  float64\n",
      " 13  FG3M               523751 non-null  float64\n",
      " 14  FG3A               523751 non-null  float64\n",
      " 15  FG3_PCT            523751 non-null  float64\n",
      " 16  FTM                523751 non-null  float64\n",
      " 17  FTA                523751 non-null  float64\n",
      " 18  FT_PCT             523751 non-null  float64\n",
      " 19  OREB               523751 non-null  float64\n",
      " 20  DREB               523751 non-null  float64\n",
      " 21  REB                523751 non-null  float64\n",
      " 22  AST                523751 non-null  float64\n",
      " 23  STL                523751 non-null  float64\n",
      " 24  BLK                523751 non-null  float64\n",
      " 25  TO                 523751 non-null  float64\n",
      " 26  PF                 523751 non-null  float64\n",
      " 27  PTS                523751 non-null  float64\n",
      " 28  PLUS_MINUS         500090 non-null  float64\n",
      "dtypes: float64(19), int64(3), object(7)\n",
      "memory usage: 138.5+ MB\n"
     ]
    }
   ],
   "source": [
    "# Getting the data types of each column\n",
    "df.info()"
   ]
  },
  {
   "cell_type": "code",
   "execution_count": 52,
   "metadata": {},
   "outputs": [
    {
     "data": {
      "text/html": [
       "<div>\n",
       "<style scoped>\n",
       "    .dataframe tbody tr th:only-of-type {\n",
       "        vertical-align: middle;\n",
       "    }\n",
       "\n",
       "    .dataframe tbody tr th {\n",
       "        vertical-align: top;\n",
       "    }\n",
       "\n",
       "    .dataframe thead th {\n",
       "        text-align: right;\n",
       "    }\n",
       "</style>\n",
       "<table border=\"1\" class=\"dataframe\">\n",
       "  <thead>\n",
       "    <tr style=\"text-align: right;\">\n",
       "      <th></th>\n",
       "      <th>GAME_ID</th>\n",
       "      <th>TEAM_ID</th>\n",
       "      <th>PLAYER_ID</th>\n",
       "      <th>FGM</th>\n",
       "      <th>FGA</th>\n",
       "      <th>FG_PCT</th>\n",
       "      <th>FG3M</th>\n",
       "      <th>FG3A</th>\n",
       "      <th>FG3_PCT</th>\n",
       "      <th>FTM</th>\n",
       "      <th>...</th>\n",
       "      <th>OREB</th>\n",
       "      <th>DREB</th>\n",
       "      <th>REB</th>\n",
       "      <th>AST</th>\n",
       "      <th>STL</th>\n",
       "      <th>BLK</th>\n",
       "      <th>TO</th>\n",
       "      <th>PF</th>\n",
       "      <th>PTS</th>\n",
       "      <th>PLUS_MINUS</th>\n",
       "    </tr>\n",
       "  </thead>\n",
       "  <tbody>\n",
       "    <tr>\n",
       "      <th>count</th>\n",
       "      <td>6.261110e+05</td>\n",
       "      <td>6.261110e+05</td>\n",
       "      <td>6.261110e+05</td>\n",
       "      <td>523751.000000</td>\n",
       "      <td>523751.000000</td>\n",
       "      <td>523751.000000</td>\n",
       "      <td>523751.000000</td>\n",
       "      <td>523751.00000</td>\n",
       "      <td>523751.000000</td>\n",
       "      <td>523751.000000</td>\n",
       "      <td>...</td>\n",
       "      <td>523751.000000</td>\n",
       "      <td>523751.000000</td>\n",
       "      <td>523751.000000</td>\n",
       "      <td>523751.00000</td>\n",
       "      <td>523751.000000</td>\n",
       "      <td>523751.000000</td>\n",
       "      <td>523751.000000</td>\n",
       "      <td>523751.000000</td>\n",
       "      <td>523751.000000</td>\n",
       "      <td>500090.000000</td>\n",
       "    </tr>\n",
       "    <tr>\n",
       "      <th>mean</th>\n",
       "      <td>2.164553e+07</td>\n",
       "      <td>1.610613e+09</td>\n",
       "      <td>3.451868e+05</td>\n",
       "      <td>3.574498</td>\n",
       "      <td>7.878062</td>\n",
       "      <td>0.415843</td>\n",
       "      <td>0.753051</td>\n",
       "      <td>2.11503</td>\n",
       "      <td>0.197427</td>\n",
       "      <td>1.738716</td>\n",
       "      <td>...</td>\n",
       "      <td>1.028187</td>\n",
       "      <td>3.026999</td>\n",
       "      <td>4.055187</td>\n",
       "      <td>2.09036</td>\n",
       "      <td>0.722950</td>\n",
       "      <td>0.461782</td>\n",
       "      <td>1.325151</td>\n",
       "      <td>2.006984</td>\n",
       "      <td>9.640753</td>\n",
       "      <td>-0.000356</td>\n",
       "    </tr>\n",
       "    <tr>\n",
       "      <th>std</th>\n",
       "      <td>5.656110e+06</td>\n",
       "      <td>8.649604e+00</td>\n",
       "      <td>7.461713e+06</td>\n",
       "      <td>3.019116</td>\n",
       "      <td>5.657840</td>\n",
       "      <td>0.251636</td>\n",
       "      <td>1.205652</td>\n",
       "      <td>2.52168</td>\n",
       "      <td>0.289293</td>\n",
       "      <td>2.356272</td>\n",
       "      <td>...</td>\n",
       "      <td>1.401890</td>\n",
       "      <td>2.685872</td>\n",
       "      <td>3.487341</td>\n",
       "      <td>2.46903</td>\n",
       "      <td>0.974351</td>\n",
       "      <td>0.865591</td>\n",
       "      <td>1.402568</td>\n",
       "      <td>1.503485</td>\n",
       "      <td>8.039700</td>\n",
       "      <td>10.611897</td>\n",
       "    </tr>\n",
       "    <tr>\n",
       "      <th>min</th>\n",
       "      <td>1.030000e+07</td>\n",
       "      <td>1.610613e+09</td>\n",
       "      <td>1.500000e+01</td>\n",
       "      <td>0.000000</td>\n",
       "      <td>0.000000</td>\n",
       "      <td>0.000000</td>\n",
       "      <td>0.000000</td>\n",
       "      <td>0.00000</td>\n",
       "      <td>0.000000</td>\n",
       "      <td>0.000000</td>\n",
       "      <td>...</td>\n",
       "      <td>0.000000</td>\n",
       "      <td>0.000000</td>\n",
       "      <td>0.000000</td>\n",
       "      <td>0.00000</td>\n",
       "      <td>0.000000</td>\n",
       "      <td>0.000000</td>\n",
       "      <td>0.000000</td>\n",
       "      <td>0.000000</td>\n",
       "      <td>0.000000</td>\n",
       "      <td>-57.000000</td>\n",
       "    </tr>\n",
       "    <tr>\n",
       "      <th>25%</th>\n",
       "      <td>2.060092e+07</td>\n",
       "      <td>1.610613e+09</td>\n",
       "      <td>2.419000e+03</td>\n",
       "      <td>1.000000</td>\n",
       "      <td>3.000000</td>\n",
       "      <td>0.250000</td>\n",
       "      <td>0.000000</td>\n",
       "      <td>0.00000</td>\n",
       "      <td>0.000000</td>\n",
       "      <td>0.000000</td>\n",
       "      <td>...</td>\n",
       "      <td>0.000000</td>\n",
       "      <td>1.000000</td>\n",
       "      <td>1.000000</td>\n",
       "      <td>0.00000</td>\n",
       "      <td>0.000000</td>\n",
       "      <td>0.000000</td>\n",
       "      <td>0.000000</td>\n",
       "      <td>1.000000</td>\n",
       "      <td>3.000000</td>\n",
       "      <td>-7.000000</td>\n",
       "    </tr>\n",
       "    <tr>\n",
       "      <th>50%</th>\n",
       "      <td>2.120022e+07</td>\n",
       "      <td>1.610613e+09</td>\n",
       "      <td>2.011440e+05</td>\n",
       "      <td>3.000000</td>\n",
       "      <td>7.000000</td>\n",
       "      <td>0.429000</td>\n",
       "      <td>0.000000</td>\n",
       "      <td>1.00000</td>\n",
       "      <td>0.000000</td>\n",
       "      <td>1.000000</td>\n",
       "      <td>...</td>\n",
       "      <td>1.000000</td>\n",
       "      <td>2.000000</td>\n",
       "      <td>3.000000</td>\n",
       "      <td>1.00000</td>\n",
       "      <td>0.000000</td>\n",
       "      <td>0.000000</td>\n",
       "      <td>1.000000</td>\n",
       "      <td>2.000000</td>\n",
       "      <td>8.000000</td>\n",
       "      <td>0.000000</td>\n",
       "    </tr>\n",
       "    <tr>\n",
       "      <th>75%</th>\n",
       "      <td>2.170020e+07</td>\n",
       "      <td>1.610613e+09</td>\n",
       "      <td>2.030920e+05</td>\n",
       "      <td>5.000000</td>\n",
       "      <td>11.000000</td>\n",
       "      <td>0.571000</td>\n",
       "      <td>1.000000</td>\n",
       "      <td>3.00000</td>\n",
       "      <td>0.375000</td>\n",
       "      <td>3.000000</td>\n",
       "      <td>...</td>\n",
       "      <td>2.000000</td>\n",
       "      <td>4.000000</td>\n",
       "      <td>6.000000</td>\n",
       "      <td>3.00000</td>\n",
       "      <td>1.000000</td>\n",
       "      <td>1.000000</td>\n",
       "      <td>2.000000</td>\n",
       "      <td>3.000000</td>\n",
       "      <td>14.000000</td>\n",
       "      <td>6.000000</td>\n",
       "    </tr>\n",
       "    <tr>\n",
       "      <th>max</th>\n",
       "      <td>5.200021e+07</td>\n",
       "      <td>1.610613e+09</td>\n",
       "      <td>1.962938e+09</td>\n",
       "      <td>28.000000</td>\n",
       "      <td>50.000000</td>\n",
       "      <td>1.000000</td>\n",
       "      <td>14.000000</td>\n",
       "      <td>24.00000</td>\n",
       "      <td>1.000000</td>\n",
       "      <td>26.000000</td>\n",
       "      <td>...</td>\n",
       "      <td>18.000000</td>\n",
       "      <td>25.000000</td>\n",
       "      <td>31.000000</td>\n",
       "      <td>25.00000</td>\n",
       "      <td>10.000000</td>\n",
       "      <td>12.000000</td>\n",
       "      <td>12.000000</td>\n",
       "      <td>15.000000</td>\n",
       "      <td>81.000000</td>\n",
       "      <td>57.000000</td>\n",
       "    </tr>\n",
       "  </tbody>\n",
       "</table>\n",
       "<p>8 rows × 22 columns</p>\n",
       "</div>"
      ],
      "text/plain": [
       "            GAME_ID       TEAM_ID     PLAYER_ID            FGM            FGA  \\\n",
       "count  6.261110e+05  6.261110e+05  6.261110e+05  523751.000000  523751.000000   \n",
       "mean   2.164553e+07  1.610613e+09  3.451868e+05       3.574498       7.878062   \n",
       "std    5.656110e+06  8.649604e+00  7.461713e+06       3.019116       5.657840   \n",
       "min    1.030000e+07  1.610613e+09  1.500000e+01       0.000000       0.000000   \n",
       "25%    2.060092e+07  1.610613e+09  2.419000e+03       1.000000       3.000000   \n",
       "50%    2.120022e+07  1.610613e+09  2.011440e+05       3.000000       7.000000   \n",
       "75%    2.170020e+07  1.610613e+09  2.030920e+05       5.000000      11.000000   \n",
       "max    5.200021e+07  1.610613e+09  1.962938e+09      28.000000      50.000000   \n",
       "\n",
       "              FG_PCT           FG3M          FG3A        FG3_PCT  \\\n",
       "count  523751.000000  523751.000000  523751.00000  523751.000000   \n",
       "mean        0.415843       0.753051       2.11503       0.197427   \n",
       "std         0.251636       1.205652       2.52168       0.289293   \n",
       "min         0.000000       0.000000       0.00000       0.000000   \n",
       "25%         0.250000       0.000000       0.00000       0.000000   \n",
       "50%         0.429000       0.000000       1.00000       0.000000   \n",
       "75%         0.571000       1.000000       3.00000       0.375000   \n",
       "max         1.000000      14.000000      24.00000       1.000000   \n",
       "\n",
       "                 FTM  ...           OREB           DREB            REB  \\\n",
       "count  523751.000000  ...  523751.000000  523751.000000  523751.000000   \n",
       "mean        1.738716  ...       1.028187       3.026999       4.055187   \n",
       "std         2.356272  ...       1.401890       2.685872       3.487341   \n",
       "min         0.000000  ...       0.000000       0.000000       0.000000   \n",
       "25%         0.000000  ...       0.000000       1.000000       1.000000   \n",
       "50%         1.000000  ...       1.000000       2.000000       3.000000   \n",
       "75%         3.000000  ...       2.000000       4.000000       6.000000   \n",
       "max        26.000000  ...      18.000000      25.000000      31.000000   \n",
       "\n",
       "                AST            STL            BLK             TO  \\\n",
       "count  523751.00000  523751.000000  523751.000000  523751.000000   \n",
       "mean        2.09036       0.722950       0.461782       1.325151   \n",
       "std         2.46903       0.974351       0.865591       1.402568   \n",
       "min         0.00000       0.000000       0.000000       0.000000   \n",
       "25%         0.00000       0.000000       0.000000       0.000000   \n",
       "50%         1.00000       0.000000       0.000000       1.000000   \n",
       "75%         3.00000       1.000000       1.000000       2.000000   \n",
       "max        25.00000      10.000000      12.000000      12.000000   \n",
       "\n",
       "                  PF            PTS     PLUS_MINUS  \n",
       "count  523751.000000  523751.000000  500090.000000  \n",
       "mean        2.006984       9.640753      -0.000356  \n",
       "std         1.503485       8.039700      10.611897  \n",
       "min         0.000000       0.000000     -57.000000  \n",
       "25%         1.000000       3.000000      -7.000000  \n",
       "50%         2.000000       8.000000       0.000000  \n",
       "75%         3.000000      14.000000       6.000000  \n",
       "max        15.000000      81.000000      57.000000  \n",
       "\n",
       "[8 rows x 22 columns]"
      ]
     },
     "execution_count": 52,
     "metadata": {},
     "output_type": "execute_result"
    }
   ],
   "source": [
    "# Extracting several cumulative metrics from every column\n",
    "df.describe()"
   ]
  },
  {
   "cell_type": "markdown",
   "metadata": {},
   "source": [
    "## Singling out the 'points' metric"
   ]
  },
  {
   "cell_type": "code",
   "execution_count": 53,
   "metadata": {},
   "outputs": [
    {
     "data": {
      "text/plain": [
       "<bound method NDFrame.describe of 0          3.0\n",
       "1          5.0\n",
       "2         20.0\n",
       "3         24.0\n",
       "4          0.0\n",
       "          ... \n",
       "626106    17.0\n",
       "626107    18.0\n",
       "626108     6.0\n",
       "626109     2.0\n",
       "626110     8.0\n",
       "Name: PTS, Length: 626111, dtype: float64>"
      ]
     },
     "execution_count": 53,
     "metadata": {},
     "output_type": "execute_result"
    }
   ],
   "source": [
    "# Singling out the 'points' metric for further observation\n",
    "df[\"PTS\"].describe"
   ]
  },
  {
   "cell_type": "markdown",
   "metadata": {},
   "source": [
    "## Cleaning the Data"
   ]
  },
  {
   "cell_type": "code",
   "execution_count": 54,
   "metadata": {},
   "outputs": [],
   "source": [
    "# Filling all N/A values with 0, N/A typically represents D.N.P. values\n",
    "df[\"PTS\"] = df[\"PTS\"].fillna(0)"
   ]
  },
  {
   "cell_type": "code",
   "execution_count": 55,
   "metadata": {},
   "outputs": [],
   "source": [
    "# Converting 'points' to an integer, to ensure 1/2 points will not be counted\n",
    "df[\"PTS\"]= df[\"PTS\"].astype(int)\n"
   ]
  },
  {
   "cell_type": "code",
   "execution_count": 56,
   "metadata": {},
   "outputs": [
    {
     "data": {
      "text/plain": [
       "<bound method NDFrame.describe of 0          3\n",
       "1          5\n",
       "2         20\n",
       "3         24\n",
       "5          2\n",
       "          ..\n",
       "626106    17\n",
       "626107    18\n",
       "626108     6\n",
       "626109     2\n",
       "626110     8\n",
       "Name: PTS, Length: 455506, dtype: int32>"
      ]
     },
     "execution_count": 56,
     "metadata": {},
     "output_type": "execute_result"
    }
   ],
   "source": [
    "# 0-1 points count for less than one 'field goal made', so begin by dropping them from the dataset\n",
    "min_pt_value = df[df[\"PTS\"] < 2].index\n",
    "\n",
    "df.drop(min_pt_value, inplace=True)\n",
    "\n",
    "# Confirming the stats have been dropped from the dataset\n",
    "df['PTS'].describe\n"
   ]
  },
  {
   "cell_type": "code",
   "execution_count": 57,
   "metadata": {},
   "outputs": [
    {
     "data": {
      "text/plain": [
       "9.0"
      ]
     },
     "execution_count": 57,
     "metadata": {},
     "output_type": "execute_result"
    }
   ],
   "source": [
    "# Median of 'points' from every game\n",
    "df[\"PTS\"].median()"
   ]
  },
  {
   "cell_type": "code",
   "execution_count": 58,
   "metadata": {},
   "outputs": [
    {
     "data": {
      "text/plain": [
       "11.0"
      ]
     },
     "execution_count": 58,
     "metadata": {},
     "output_type": "execute_result"
    }
   ],
   "source": [
    "# Rounding the average points scored in every game\n",
    "df[\"PTS\"].mean().round()"
   ]
  },
  {
   "cell_type": "markdown",
   "metadata": {},
   "source": [
    "## Visualizing the data"
   ]
  },
  {
   "cell_type": "code",
   "execution_count": 59,
   "metadata": {},
   "outputs": [
    {
     "data": {
      "text/plain": [
       "<AxesSubplot:>"
      ]
     },
     "execution_count": 59,
     "metadata": {},
     "output_type": "execute_result"
    },
    {
     "data": {
      "image/png": "[encoded data removed]",
      "text/plain": [
       "<Figure size 1008x432 with 1 Axes>"
      ]
     },
     "metadata": {
      "needs_background": "light"
     },
     "output_type": "display_data"
    }
   ],
   "source": [
    "# Plotting the total amount of points scored using a boxplot \n",
    "df['PTS'].plot(kind='box', vert=False, figsize= (14, 6))"
   ]
  },
  {
   "cell_type": "code",
   "execution_count": 60,
   "metadata": {},
   "outputs": [
    {
     "data": {
      "text/plain": [
       "<matplotlib.lines.Line2D at 0x2bf05c663b0>"
      ]
     },
     "execution_count": 60,
     "metadata": {},
     "output_type": "execute_result"
    },
    {
     "data": {
      "image/png": "[encoded data removed]",
      "text/plain": [
       "<Figure size 1008x432 with 1 Axes>"
      ]
     },
     "metadata": {
      "needs_background": "light"
     },
     "output_type": "display_data"
    }
   ],
   "source": [
    "# Plotting 'points' using a density graph, along with highlighting the mean and median\n",
    "pointstats= df['PTS'].plot(kind='density', figsize=(14, 6))\n",
    "pointstats.axvline(df['PTS'].mean(), color= 'red')\n",
    "pointstats.axvline(df['PTS'].median(), color= 'green')\n"
   ]
  },
  {
   "cell_type": "code",
   "execution_count": 61,
   "metadata": {},
   "outputs": [
    {
     "data": {
      "text/plain": [
       "Text(0.5, 0, 'Points Scored')"
      ]
     },
     "execution_count": 61,
     "metadata": {},
     "output_type": "execute_result"
    },
    {
     "data": {
      "image/png": "[encoded data removed]",
      "text/plain": [
       "<Figure size 1008x432 with 1 Axes>"
      ]
     },
     "metadata": {
      "needs_background": "light"
     },
     "output_type": "display_data"
    }
   ],
   "source": [
    "# Plotting 'points' using a histogram\n",
    "pointstats= df['PTS'].plot(kind='hist', figsize=(14, 6))\n",
    "\n",
    "pointstats.set_ylabel('Total Ocurrences')\n",
    "pointstats.set_xlabel('Points Scored')"
   ]
  },
  {
   "cell_type": "code",
   "execution_count": 62,
   "metadata": {},
   "outputs": [
    {
     "data": {
      "text/plain": [
       "<AxesSubplot:xlabel='PTS', ylabel='FGM'>"
      ]
     },
     "execution_count": 62,
     "metadata": {},
     "output_type": "execute_result"
    },
    {
     "data": {
      "image/png": "[encoded data removed]",
      "text/plain": [
       "<Figure size 432x432 with 1 Axes>"
      ]
     },
     "metadata": {
      "needs_background": "light"
     },
     "output_type": "display_data"
    }
   ],
   "source": [
    "# Displaying a scatterplot \n",
    "# Showing a correlation between a made field goal and the amount of points in a game \n",
    "df.plot(kind=\"scatter\", x=\"PTS\", y=\"FGM\", figsize=(6, 6))"
   ]
  },
  {
   "cell_type": "code",
   "execution_count": 63,
   "metadata": {},
   "outputs": [
    {
     "data": {
      "text/plain": [
       "<AxesSubplot:xlabel='PTS', ylabel='FG3M'>"
      ]
     },
     "execution_count": 63,
     "metadata": {},
     "output_type": "execute_result"
    },
    {
     "data": {
      "image/png": "[encoded data removed]",
      "text/plain": [
       "<Figure size 432x432 with 1 Axes>"
      ]
     },
     "metadata": {
      "needs_background": "light"
     },
     "output_type": "display_data"
    }
   ],
   "source": [
    "# Showing a correlation between a made 3 pointer and the amount of points in a game\n",
    "df.plot(kind=\"scatter\", x=\"PTS\", y=\"FG3M\", figsize=(6, 6))\n"
   ]
  },
  {
   "cell_type": "markdown",
   "metadata": {},
   "source": [
    "## Extracting Data "
   ]
  },
  {
   "cell_type": "code",
   "execution_count": 64,
   "metadata": {},
   "outputs": [
    {
     "data": {
      "text/html": [
       "<div>\n",
       "<style scoped>\n",
       "    .dataframe tbody tr th:only-of-type {\n",
       "        vertical-align: middle;\n",
       "    }\n",
       "\n",
       "    .dataframe tbody tr th {\n",
       "        vertical-align: top;\n",
       "    }\n",
       "\n",
       "    .dataframe thead th {\n",
       "        text-align: right;\n",
       "    }\n",
       "</style>\n",
       "<table border=\"1\" class=\"dataframe\">\n",
       "  <thead>\n",
       "    <tr style=\"text-align: right;\">\n",
       "      <th></th>\n",
       "      <th>GAME_ID</th>\n",
       "      <th>TEAM_ID</th>\n",
       "      <th>TEAM_ABBREVIATION</th>\n",
       "      <th>TEAM_CITY</th>\n",
       "      <th>PLAYER_ID</th>\n",
       "      <th>PLAYER_NAME</th>\n",
       "      <th>NICKNAME</th>\n",
       "      <th>START_POSITION</th>\n",
       "      <th>COMMENT</th>\n",
       "      <th>MIN</th>\n",
       "      <th>...</th>\n",
       "      <th>OREB</th>\n",
       "      <th>DREB</th>\n",
       "      <th>REB</th>\n",
       "      <th>AST</th>\n",
       "      <th>STL</th>\n",
       "      <th>BLK</th>\n",
       "      <th>TO</th>\n",
       "      <th>PF</th>\n",
       "      <th>PTS</th>\n",
       "      <th>PLUS_MINUS</th>\n",
       "    </tr>\n",
       "  </thead>\n",
       "  <tbody>\n",
       "    <tr>\n",
       "      <th>184197</th>\n",
       "      <td>20500591</td>\n",
       "      <td>1610612747</td>\n",
       "      <td>LAL</td>\n",
       "      <td>Los Angeles</td>\n",
       "      <td>977</td>\n",
       "      <td>Kobe Bryant</td>\n",
       "      <td>NaN</td>\n",
       "      <td>G</td>\n",
       "      <td>NaN</td>\n",
       "      <td>41:56</td>\n",
       "      <td>...</td>\n",
       "      <td>2.0</td>\n",
       "      <td>4.0</td>\n",
       "      <td>6.0</td>\n",
       "      <td>2.0</td>\n",
       "      <td>3.0</td>\n",
       "      <td>1.0</td>\n",
       "      <td>3.0</td>\n",
       "      <td>1.0</td>\n",
       "      <td>81</td>\n",
       "      <td>25.0</td>\n",
       "    </tr>\n",
       "  </tbody>\n",
       "</table>\n",
       "<p>1 rows × 29 columns</p>\n",
       "</div>"
      ],
      "text/plain": [
       "         GAME_ID     TEAM_ID TEAM_ABBREVIATION    TEAM_CITY  PLAYER_ID  \\\n",
       "184197  20500591  1610612747               LAL  Los Angeles        977   \n",
       "\n",
       "        PLAYER_NAME NICKNAME START_POSITION COMMENT    MIN  ...  OREB  DREB  \\\n",
       "184197  Kobe Bryant      NaN              G     NaN  41:56  ...   2.0   4.0   \n",
       "\n",
       "        REB  AST  STL  BLK   TO   PF  PTS  PLUS_MINUS  \n",
       "184197  6.0  2.0  3.0  1.0  3.0  1.0   81        25.0  \n",
       "\n",
       "[1 rows x 29 columns]"
      ]
     },
     "execution_count": 64,
     "metadata": {},
     "output_type": "execute_result"
    }
   ],
   "source": [
    "# Extracting the highest score\n",
    "\n",
    "df[df[\"PTS\"] == df[\"PTS\"].max()]"
   ]
  },
  {
   "cell_type": "code",
   "execution_count": 65,
   "metadata": {},
   "outputs": [
    {
     "data": {
      "text/html": [
       "<div>\n",
       "<style scoped>\n",
       "    .dataframe tbody tr th:only-of-type {\n",
       "        vertical-align: middle;\n",
       "    }\n",
       "\n",
       "    .dataframe tbody tr th {\n",
       "        vertical-align: top;\n",
       "    }\n",
       "\n",
       "    .dataframe thead th {\n",
       "        text-align: right;\n",
       "    }\n",
       "</style>\n",
       "<table border=\"1\" class=\"dataframe\">\n",
       "  <thead>\n",
       "    <tr style=\"text-align: right;\">\n",
       "      <th></th>\n",
       "      <th>GAME_ID</th>\n",
       "      <th>TEAM_ID</th>\n",
       "      <th>TEAM_ABBREVIATION</th>\n",
       "      <th>TEAM_CITY</th>\n",
       "      <th>PLAYER_ID</th>\n",
       "      <th>PLAYER_NAME</th>\n",
       "      <th>NICKNAME</th>\n",
       "      <th>START_POSITION</th>\n",
       "      <th>COMMENT</th>\n",
       "      <th>MIN</th>\n",
       "      <th>...</th>\n",
       "      <th>OREB</th>\n",
       "      <th>DREB</th>\n",
       "      <th>REB</th>\n",
       "      <th>AST</th>\n",
       "      <th>STL</th>\n",
       "      <th>BLK</th>\n",
       "      <th>TO</th>\n",
       "      <th>PF</th>\n",
       "      <th>PTS</th>\n",
       "      <th>PLUS_MINUS</th>\n",
       "    </tr>\n",
       "  </thead>\n",
       "  <tbody>\n",
       "    <tr>\n",
       "      <th>28318</th>\n",
       "      <td>22000543</td>\n",
       "      <td>1610612754</td>\n",
       "      <td>IND</td>\n",
       "      <td>Indiana</td>\n",
       "      <td>204456</td>\n",
       "      <td>T.J. McConnell</td>\n",
       "      <td>NaN</td>\n",
       "      <td>NaN</td>\n",
       "      <td>NaN</td>\n",
       "      <td>36:27</td>\n",
       "      <td>...</td>\n",
       "      <td>0.0</td>\n",
       "      <td>4.0</td>\n",
       "      <td>4.0</td>\n",
       "      <td>13.0</td>\n",
       "      <td>10.0</td>\n",
       "      <td>1.0</td>\n",
       "      <td>2.0</td>\n",
       "      <td>0.0</td>\n",
       "      <td>16</td>\n",
       "      <td>14.0</td>\n",
       "    </tr>\n",
       "    <tr>\n",
       "      <th>80476</th>\n",
       "      <td>20800645</td>\n",
       "      <td>1610612757</td>\n",
       "      <td>POR</td>\n",
       "      <td>Portland</td>\n",
       "      <td>200750</td>\n",
       "      <td>Brandon Roy</td>\n",
       "      <td>NaN</td>\n",
       "      <td>G</td>\n",
       "      <td>NaN</td>\n",
       "      <td>39:04</td>\n",
       "      <td>...</td>\n",
       "      <td>2.0</td>\n",
       "      <td>3.0</td>\n",
       "      <td>5.0</td>\n",
       "      <td>7.0</td>\n",
       "      <td>10.0</td>\n",
       "      <td>2.0</td>\n",
       "      <td>1.0</td>\n",
       "      <td>5.0</td>\n",
       "      <td>22</td>\n",
       "      <td>23.0</td>\n",
       "    </tr>\n",
       "    <tr>\n",
       "      <th>422328</th>\n",
       "      <td>21700681</td>\n",
       "      <td>1610612746</td>\n",
       "      <td>LAC</td>\n",
       "      <td>LA</td>\n",
       "      <td>101150</td>\n",
       "      <td>Lou Williams</td>\n",
       "      <td>NaN</td>\n",
       "      <td>G</td>\n",
       "      <td>NaN</td>\n",
       "      <td>40:01</td>\n",
       "      <td>...</td>\n",
       "      <td>1.0</td>\n",
       "      <td>1.0</td>\n",
       "      <td>2.0</td>\n",
       "      <td>7.0</td>\n",
       "      <td>10.0</td>\n",
       "      <td>0.0</td>\n",
       "      <td>3.0</td>\n",
       "      <td>3.0</td>\n",
       "      <td>31</td>\n",
       "      <td>-8.0</td>\n",
       "    </tr>\n",
       "    <tr>\n",
       "      <th>455138</th>\n",
       "      <td>21600803</td>\n",
       "      <td>1610612744</td>\n",
       "      <td>GSW</td>\n",
       "      <td>Golden State</td>\n",
       "      <td>203110</td>\n",
       "      <td>Draymond Green</td>\n",
       "      <td>NaN</td>\n",
       "      <td>F</td>\n",
       "      <td>NaN</td>\n",
       "      <td>37:44</td>\n",
       "      <td>...</td>\n",
       "      <td>0.0</td>\n",
       "      <td>11.0</td>\n",
       "      <td>11.0</td>\n",
       "      <td>10.0</td>\n",
       "      <td>10.0</td>\n",
       "      <td>5.0</td>\n",
       "      <td>2.0</td>\n",
       "      <td>3.0</td>\n",
       "      <td>4</td>\n",
       "      <td>26.0</td>\n",
       "    </tr>\n",
       "  </tbody>\n",
       "</table>\n",
       "<p>4 rows × 29 columns</p>\n",
       "</div>"
      ],
      "text/plain": [
       "         GAME_ID     TEAM_ID TEAM_ABBREVIATION     TEAM_CITY  PLAYER_ID  \\\n",
       "28318   22000543  1610612754               IND       Indiana     204456   \n",
       "80476   20800645  1610612757               POR      Portland     200750   \n",
       "422328  21700681  1610612746               LAC            LA     101150   \n",
       "455138  21600803  1610612744               GSW  Golden State     203110   \n",
       "\n",
       "           PLAYER_NAME NICKNAME START_POSITION COMMENT    MIN  ...  OREB  \\\n",
       "28318   T.J. McConnell      NaN            NaN     NaN  36:27  ...   0.0   \n",
       "80476      Brandon Roy      NaN              G     NaN  39:04  ...   2.0   \n",
       "422328    Lou Williams      NaN              G     NaN  40:01  ...   1.0   \n",
       "455138  Draymond Green      NaN              F     NaN  37:44  ...   0.0   \n",
       "\n",
       "        DREB   REB   AST   STL  BLK   TO   PF  PTS  PLUS_MINUS  \n",
       "28318    4.0   4.0  13.0  10.0  1.0  2.0  0.0   16        14.0  \n",
       "80476    3.0   5.0   7.0  10.0  2.0  1.0  5.0   22        23.0  \n",
       "422328   1.0   2.0   7.0  10.0  0.0  3.0  3.0   31        -8.0  \n",
       "455138  11.0  11.0  10.0  10.0  5.0  2.0  3.0    4        26.0  \n",
       "\n",
       "[4 rows x 29 columns]"
      ]
     },
     "execution_count": 65,
     "metadata": {},
     "output_type": "execute_result"
    }
   ],
   "source": [
    "# Extracting the most steals\n",
    "\n",
    "df[df[\"STL\"] == df[\"STL\"].max()]\n"
   ]
  },
  {
   "cell_type": "code",
   "execution_count": 66,
   "metadata": {},
   "outputs": [
    {
     "data": {
      "text/html": [
       "<div>\n",
       "<style scoped>\n",
       "    .dataframe tbody tr th:only-of-type {\n",
       "        vertical-align: middle;\n",
       "    }\n",
       "\n",
       "    .dataframe tbody tr th {\n",
       "        vertical-align: top;\n",
       "    }\n",
       "\n",
       "    .dataframe thead th {\n",
       "        text-align: right;\n",
       "    }\n",
       "</style>\n",
       "<table border=\"1\" class=\"dataframe\">\n",
       "  <thead>\n",
       "    <tr style=\"text-align: right;\">\n",
       "      <th></th>\n",
       "      <th>GAME_ID</th>\n",
       "      <th>TEAM_ID</th>\n",
       "      <th>TEAM_ABBREVIATION</th>\n",
       "      <th>TEAM_CITY</th>\n",
       "      <th>PLAYER_ID</th>\n",
       "      <th>PLAYER_NAME</th>\n",
       "      <th>NICKNAME</th>\n",
       "      <th>START_POSITION</th>\n",
       "      <th>COMMENT</th>\n",
       "      <th>MIN</th>\n",
       "      <th>...</th>\n",
       "      <th>OREB</th>\n",
       "      <th>DREB</th>\n",
       "      <th>REB</th>\n",
       "      <th>AST</th>\n",
       "      <th>STL</th>\n",
       "      <th>BLK</th>\n",
       "      <th>TO</th>\n",
       "      <th>PF</th>\n",
       "      <th>PTS</th>\n",
       "      <th>PLUS_MINUS</th>\n",
       "    </tr>\n",
       "  </thead>\n",
       "  <tbody>\n",
       "    <tr>\n",
       "      <th>300280</th>\n",
       "      <td>21001001</td>\n",
       "      <td>1610612764</td>\n",
       "      <td>WAS</td>\n",
       "      <td>Washington</td>\n",
       "      <td>201580</td>\n",
       "      <td>JaVale McGee</td>\n",
       "      <td>NaN</td>\n",
       "      <td>C</td>\n",
       "      <td>NaN</td>\n",
       "      <td>39:22</td>\n",
       "      <td>...</td>\n",
       "      <td>3.0</td>\n",
       "      <td>9.0</td>\n",
       "      <td>12.0</td>\n",
       "      <td>1.0</td>\n",
       "      <td>0.0</td>\n",
       "      <td>12.0</td>\n",
       "      <td>2.0</td>\n",
       "      <td>4.0</td>\n",
       "      <td>11</td>\n",
       "      <td>-15.0</td>\n",
       "    </tr>\n",
       "    <tr>\n",
       "      <th>532765</th>\n",
       "      <td>21400657</td>\n",
       "      <td>1610612748</td>\n",
       "      <td>MIA</td>\n",
       "      <td>Miami</td>\n",
       "      <td>202355</td>\n",
       "      <td>Hassan Whiteside</td>\n",
       "      <td>NaN</td>\n",
       "      <td>NaN</td>\n",
       "      <td>NaN</td>\n",
       "      <td>24:37</td>\n",
       "      <td>...</td>\n",
       "      <td>6.0</td>\n",
       "      <td>7.0</td>\n",
       "      <td>13.0</td>\n",
       "      <td>0.0</td>\n",
       "      <td>0.0</td>\n",
       "      <td>12.0</td>\n",
       "      <td>0.0</td>\n",
       "      <td>4.0</td>\n",
       "      <td>14</td>\n",
       "      <td>5.0</td>\n",
       "    </tr>\n",
       "  </tbody>\n",
       "</table>\n",
       "<p>2 rows × 29 columns</p>\n",
       "</div>"
      ],
      "text/plain": [
       "         GAME_ID     TEAM_ID TEAM_ABBREVIATION   TEAM_CITY  PLAYER_ID  \\\n",
       "300280  21001001  1610612764               WAS  Washington     201580   \n",
       "532765  21400657  1610612748               MIA       Miami     202355   \n",
       "\n",
       "             PLAYER_NAME NICKNAME START_POSITION COMMENT    MIN  ...  OREB  \\\n",
       "300280      JaVale McGee      NaN              C     NaN  39:22  ...   3.0   \n",
       "532765  Hassan Whiteside      NaN            NaN     NaN  24:37  ...   6.0   \n",
       "\n",
       "        DREB   REB  AST  STL   BLK   TO   PF  PTS  PLUS_MINUS  \n",
       "300280   9.0  12.0  1.0  0.0  12.0  2.0  4.0   11       -15.0  \n",
       "532765   7.0  13.0  0.0  0.0  12.0  0.0  4.0   14         5.0  \n",
       "\n",
       "[2 rows x 29 columns]"
      ]
     },
     "execution_count": 66,
     "metadata": {},
     "output_type": "execute_result"
    }
   ],
   "source": [
    "# Extracting the most blocks\n",
    "\n",
    "df[df[\"BLK\"] == df[\"BLK\"].max()]\n"
   ]
  }
 ],
 "metadata": {
  "interpreter": {
   "hash": "5322818cae43cf6468214953b049884cb6ca7e8071f01fca2a6d6ce521d192bd"
  },
  "kernelspec": {
   "display_name": "Python 3.10.1 64-bit",
   "language": "python",
   "name": "python3"
  },
  "language_info": {
   "codemirror_mode": {
    "name": "ipython",
    "version": 3
   },
   "file_extension": ".py",
   "mimetype": "text/x-python",
   "name": "python",
   "nbconvert_exporter": "python",
   "pygments_lexer": "ipython3",
   "version": "3.10.1"
  },
  "orig_nbformat": 4
 },
 "nbformat": 4,
 "nbformat_minor": 2
}
